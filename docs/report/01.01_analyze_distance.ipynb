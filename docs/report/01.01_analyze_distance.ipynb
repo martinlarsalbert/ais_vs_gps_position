{
 "cells": [
  {
   "cell_type": "markdown",
   "metadata": {},
   "source": [
    "# Analyze distances"
   ]
  },
  {
   "cell_type": "markdown",
   "metadata": {},
   "source": [
    "## Purpose\n",
    "* The lower update rate of the AIS gives a coarser trajectory of the ship.\n",
    "* How this affects the distance is examined in this notebook."
   ]
  },
  {
   "cell_type": "markdown",
   "metadata": {},
   "source": [
    "## Results\n",
    "* the total sailed distance differs about 6% between SSPA AIS and GPS\n",
    "* This is however disregarding missing data and that the SSPA AIS has some data reduction.\n",
    "* If the 0-1 kts speeds are disregarded in the comparison, the difference is 2%."
   ]
  },
  {
   "cell_type": "markdown",
   "metadata": {
    "tags": [
     "remove-cell"
    ]
   },
   "source": [
    "## Setup"
   ]
  },
  {
   "cell_type": "code",
   "execution_count": 15,
   "metadata": {
    "tags": [
     "remove-cell"
    ]
   },
   "outputs": [
    {
     "name": "stdout",
     "output_type": "stream",
     "text": [
      "The autoreload extension is already loaded. To reload it, use:\n",
      "  %reload_ext autoreload\n"
     ]
    }
   ],
   "source": [
    "# %load imports.py\n",
    "from typing import no_type_check\n",
    "%matplotlib inline\n",
    "%load_ext autoreload\n",
    "%autoreload 2\n",
    "\n",
    "import os\n",
    "import pandas as pd\n",
    "import numpy as np\n",
    "import matplotlib.pyplot as plt\n",
    "\n",
    "from pyaisdb.database import DB\n",
    "\n"
   ]
  },
  {
   "cell_type": "code",
   "execution_count": 16,
   "metadata": {
    "tags": [
     "remove-cell"
    ]
   },
   "outputs": [],
   "source": [
    "db = DB()"
   ]
  },
  {
   "cell_type": "code",
   "execution_count": 17,
   "metadata": {
    "tags": [
     "remove-cell"
    ]
   },
   "outputs": [],
   "source": [
    "df_speed_distances = pd.DataFrame(dtype='float64')\n",
    "s_gps = pd.Series(dtype='float64')\n",
    "s_ais = pd.Series(dtype='float64')"
   ]
  },
  {
   "cell_type": "markdown",
   "metadata": {},
   "source": [
    "## GPS data\n",
    "The traveled distance can be calculated in *PostgreSQL*: "
   ]
  },
  {
   "cell_type": "code",
   "execution_count": 18,
   "metadata": {
    "tags": [
     "hide-cell"
    ]
   },
   "outputs": [],
   "source": [
    "for i in range(30):\n",
    "    sql = f\"\"\"with blue_data as (SELECT time_info, lag(time_info, 1) OVER (ORDER by time_info ASC) as next_time, sog, \n",
    "  ST_Distance(pos::geography, lag(pos::geography, 1) OVER (ORDER by time_info ASC)) as dist\n",
    "\tFROM projects._49145341_d2e2f_blue_data_varmdo\n",
    "\twhere time_info < '2020-07-19 23:59:59+02'\n",
    "                  and time_info > '2020-07-10 00:00:00+02'\n",
    ")\n",
    "select sum(dist)/1852\n",
    "from blue_data\n",
    "where sog >= {i} and sog < {i + 1}\"\"\"\n",
    "    # print(sql)\n",
    "    distance = db.execute_and_return(sql)[0][0]\n",
    "    if distance:\n",
    "        #print(f'{i + 0.5} {round(result, 2)}')\n",
    "        speed = i + 0.5\n",
    "        s_gps[speed] = distance\n"
   ]
  },
  {
   "cell_type": "markdown",
   "metadata": {},
   "source": [
    "## AIS data\n",
    "The traveled distance can be calculated in *PostgreSQL*: "
   ]
  },
  {
   "cell_type": "code",
   "execution_count": 19,
   "metadata": {
    "tags": [
     "hide-cell"
    ]
   },
   "outputs": [],
   "source": [
    "for i in range(30):\n",
    "    sql = f\"\"\"select sum(st_length(segment::geography)) / 1852\n",
    "from segments_sjfv_2020\n",
    "where sog>={i} and sog < {i+1}\n",
    "and mmsi=265520390\n",
    "and date2 < '2020-07-19 23:59:59+02'\n",
    "and date1 > '2020-07-10 00:00:00+02' \"\"\"\n",
    "    distance = db.execute_and_return(sql)[0][0]\n",
    "    if distance:\n",
    "        #print(f'{i + 0.5} {round(result, 2)}')\n",
    "        speed = i + 0.5\n",
    "        s_ais[speed] = distance\n"
   ]
  },
  {
   "cell_type": "code",
   "execution_count": 20,
   "metadata": {
    "tags": [
     "remove-cell"
    ]
   },
   "outputs": [
    {
     "data": {
      "text/html": [
       "<div>\n",
       "<style scoped>\n",
       "    .dataframe tbody tr th:only-of-type {\n",
       "        vertical-align: middle;\n",
       "    }\n",
       "\n",
       "    .dataframe tbody tr th {\n",
       "        vertical-align: top;\n",
       "    }\n",
       "\n",
       "    .dataframe thead th {\n",
       "        text-align: right;\n",
       "    }\n",
       "</style>\n",
       "<table border=\"1\" class=\"dataframe\">\n",
       "  <thead>\n",
       "    <tr style=\"text-align: right;\">\n",
       "      <th></th>\n",
       "      <th>GPS</th>\n",
       "      <th>AIS</th>\n",
       "    </tr>\n",
       "    <tr>\n",
       "      <th>speed</th>\n",
       "      <th></th>\n",
       "      <th></th>\n",
       "    </tr>\n",
       "  </thead>\n",
       "  <tbody>\n",
       "    <tr>\n",
       "      <th>0.5</th>\n",
       "      <td>57.459776</td>\n",
       "      <td>2.785933</td>\n",
       "    </tr>\n",
       "    <tr>\n",
       "      <th>1.5</th>\n",
       "      <td>4.544416</td>\n",
       "      <td>3.283193</td>\n",
       "    </tr>\n",
       "    <tr>\n",
       "      <th>2.5</th>\n",
       "      <td>5.931864</td>\n",
       "      <td>5.042496</td>\n",
       "    </tr>\n",
       "    <tr>\n",
       "      <th>3.5</th>\n",
       "      <td>8.331472</td>\n",
       "      <td>9.270586</td>\n",
       "    </tr>\n",
       "    <tr>\n",
       "      <th>4.5</th>\n",
       "      <td>10.184976</td>\n",
       "      <td>8.352712</td>\n",
       "    </tr>\n",
       "  </tbody>\n",
       "</table>\n",
       "</div>"
      ],
      "text/plain": [
       "             GPS       AIS\n",
       "speed                     \n",
       "0.5    57.459776  2.785933\n",
       "1.5     4.544416  3.283193\n",
       "2.5     5.931864  5.042496\n",
       "3.5     8.331472  9.270586\n",
       "4.5    10.184976  8.352712"
      ]
     },
     "execution_count": 20,
     "metadata": {},
     "output_type": "execute_result"
    }
   ],
   "source": [
    "df_speed_distances['GPS'] = s_gps\n",
    "df_speed_distances['AIS'] = s_ais\n",
    "df_speed_distances.index.name='speed'\n",
    "df_speed_distances.head()"
   ]
  },
  {
   "cell_type": "code",
   "execution_count": 21,
   "metadata": {
    "tags": [
     "remove-cell"
    ]
   },
   "outputs": [
    {
     "data": {
      "text/html": [
       "<div>\n",
       "<style scoped>\n",
       "    .dataframe tbody tr th:only-of-type {\n",
       "        vertical-align: middle;\n",
       "    }\n",
       "\n",
       "    .dataframe tbody tr th {\n",
       "        vertical-align: top;\n",
       "    }\n",
       "\n",
       "    .dataframe thead th {\n",
       "        text-align: right;\n",
       "    }\n",
       "</style>\n",
       "<table border=\"1\" class=\"dataframe\">\n",
       "  <thead>\n",
       "    <tr style=\"text-align: right;\">\n",
       "      <th></th>\n",
       "      <th>GPS</th>\n",
       "      <th>AIS</th>\n",
       "    </tr>\n",
       "  </thead>\n",
       "  <tbody>\n",
       "    <tr>\n",
       "      <th>count</th>\n",
       "      <td>23.000000</td>\n",
       "      <td>23.000000</td>\n",
       "    </tr>\n",
       "    <tr>\n",
       "      <th>mean</th>\n",
       "      <td>50.706558</td>\n",
       "      <td>47.447936</td>\n",
       "    </tr>\n",
       "    <tr>\n",
       "      <th>std</th>\n",
       "      <td>55.136500</td>\n",
       "      <td>56.258720</td>\n",
       "    </tr>\n",
       "    <tr>\n",
       "      <th>min</th>\n",
       "      <td>0.435807</td>\n",
       "      <td>0.516776</td>\n",
       "    </tr>\n",
       "    <tr>\n",
       "      <th>25%</th>\n",
       "      <td>12.320331</td>\n",
       "      <td>9.380322</td>\n",
       "    </tr>\n",
       "    <tr>\n",
       "      <th>50%</th>\n",
       "      <td>33.429894</td>\n",
       "      <td>29.392913</td>\n",
       "    </tr>\n",
       "    <tr>\n",
       "      <th>75%</th>\n",
       "      <td>60.246574</td>\n",
       "      <td>58.234950</td>\n",
       "    </tr>\n",
       "    <tr>\n",
       "      <th>max</th>\n",
       "      <td>201.025973</td>\n",
       "      <td>211.230779</td>\n",
       "    </tr>\n",
       "  </tbody>\n",
       "</table>\n",
       "</div>"
      ],
      "text/plain": [
       "              GPS         AIS\n",
       "count   23.000000   23.000000\n",
       "mean    50.706558   47.447936\n",
       "std     55.136500   56.258720\n",
       "min      0.435807    0.516776\n",
       "25%     12.320331    9.380322\n",
       "50%     33.429894   29.392913\n",
       "75%     60.246574   58.234950\n",
       "max    201.025973  211.230779"
      ]
     },
     "execution_count": 21,
     "metadata": {},
     "output_type": "execute_result"
    }
   ],
   "source": [
    "df_speed_distances.describe()"
   ]
  },
  {
   "cell_type": "markdown",
   "metadata": {},
   "source": [
    "The traveled distance in nautical miles (NM) calculated from the GPS and AIS data is as follows:"
   ]
  },
  {
   "cell_type": "code",
   "execution_count": 22,
   "metadata": {
    "tags": [
     "hide-input"
    ]
   },
   "outputs": [
    {
     "data": {
      "text/plain": [
       "GPS    1166.250824\n",
       "AIS    1091.302529\n",
       "dtype: float64"
      ]
     },
     "execution_count": 22,
     "metadata": {},
     "output_type": "execute_result"
    }
   ],
   "source": [
    "df_speed_distances.sum()"
   ]
  },
  {
   "cell_type": "markdown",
   "metadata": {},
   "source": [
    "The distance of from the AIS is about 6% shorter:"
   ]
  },
  {
   "cell_type": "code",
   "execution_count": 23,
   "metadata": {
    "tags": [
     "hide-input"
    ]
   },
   "outputs": [
    {
     "data": {
      "text/plain": [
       "GPS         NaN\n",
       "AIS   -0.064264\n",
       "dtype: float64"
      ]
     },
     "execution_count": 23,
     "metadata": {},
     "output_type": "execute_result"
    }
   ],
   "source": [
    "df_speed_distances.sum().pct_change()"
   ]
  },
  {
   "cell_type": "markdown",
   "metadata": {},
   "source": [
    "A histogram showing how the distances are distributed over various ship speeds is shown below."
   ]
  },
  {
   "cell_type": "code",
   "execution_count": 28,
   "metadata": {
    "tags": [
     "hide-cell"
    ]
   },
   "outputs": [
    {
     "data": {
      "image/png": "[encoded data removed]",
      "text/plain": [
       "<Figure size 1224x504 with 1 Axes>"
      ]
     },
     "metadata": {
      "needs_background": "light"
     },
     "output_type": "display_data"
    }
   ],
   "source": [
    "fig,ax=plt.subplots()\n",
    "fig.set_size_inches(17,7)\n",
    "df_speed_distances.plot(style='.-',ax=ax, kind='bar');\n",
    "ax.grid(True)\n",
    "ax.set_ylabel('Distance [NM]')\n",
    "ax.set_xlabel('Ship speed [kts]');\n"
   ]
  },
  {
   "cell_type": "markdown",
   "metadata": {},
   "source": [
    "It can be seen from this histogram that the distance differes a lot for the lowest speeds (0-1 kts). If these speeds are removed from the comparison the distance difference is reduced to about 2%, as seen below."
   ]
  },
  {
   "cell_type": "code",
   "execution_count": 27,
   "metadata": {
    "tags": [
     "hide-input"
    ]
   },
   "outputs": [
    {
     "data": {
      "text/plain": [
       "GPS         NaN\n",
       "AIS   -0.018285\n",
       "dtype: float64"
      ]
     },
     "execution_count": 27,
     "metadata": {},
     "output_type": "execute_result"
    }
   ],
   "source": [
    "df_speed_distances.iloc[1:].sum().pct_change()"
   ]
  },
  {
   "cell_type": "code",
   "execution_count": 25,
   "metadata": {
    "tags": [
     "hide-cell"
    ]
   },
   "outputs": [],
   "source": [
    "df_speed_time = df_speed_distances.div(df_speed_distances.index, axis=0)"
   ]
  },
  {
   "cell_type": "code",
   "execution_count": 26,
   "metadata": {
    "tags": [
     "hide-cell"
    ]
   },
   "outputs": [
    {
     "data": {
      "text/plain": [
       "Text(0.5, 0, 'Ship speed [kts]')"
      ]
     },
     "execution_count": 26,
     "metadata": {},
     "output_type": "execute_result"
    },
    {
     "data": {
      "image/png": "[encoded data removed]",
      "text/plain": [
       "<Figure size 1224x504 with 1 Axes>"
      ]
     },
     "metadata": {
      "needs_background": "light"
     },
     "output_type": "display_data"
    }
   ],
   "source": [
    "fig,ax=plt.subplots()\n",
    "fig.set_size_inches(17,7)\n",
    "df_speed_time.plot(style='.-',ax=ax, kind='bar');\n",
    "ax.grid(True)\n",
    "ax.set_ylabel('Time [s]')\n",
    "ax.set_xlabel('Ship speed [kts]')"
   ]
  }
 ],
 "metadata": {
  "interpreter": {
   "hash": "3fdae23d73c60f1aa96e9cd151013546c3ff6a449020e5a9bb8298314de000c2"
  },
  "kernelspec": {
   "display_name": "Python 3 (ipykernel)",
   "language": "python",
   "name": "python3"
  },
  "language_info": {
   "codemirror_mode": {
    "name": "ipython",
    "version": 3
   },
   "file_extension": ".py",
   "mimetype": "text/x-python",
   "name": "python",
   "nbconvert_exporter": "python",
   "pygments_lexer": "ipython3",
   "version": "3.8.8"
  }
 },
 "nbformat": 4,
 "nbformat_minor": 4
}
