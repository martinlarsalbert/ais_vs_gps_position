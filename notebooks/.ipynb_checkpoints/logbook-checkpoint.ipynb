{
 "cells": [
  {
   "cell_type": "markdown",
   "metadata": {},
   "source": [
    "<a id='logbook'></a>\n",
    "# Logbook"
   ]
  },
  {
   "cell_type": "code",
   "execution_count": 3,
   "metadata": {},
   "outputs": [
    {
     "name": "stdout",
     "output_type": "stream",
     "text": [
      "The autoreload extension is already loaded. To reload it, use:\n",
      "  %reload_ext autoreload\n"
     ]
    }
   ],
   "source": [
    "# %load imports.py\r\n",
    "from typing import no_type_check\r\n",
    "%matplotlib inline\r\n",
    "%load_ext autoreload\r\n",
    "%autoreload 2\r\n",
    "\r\n",
    "import os\r\n",
    "import pandas as pd\r\n",
    "import numpy as np\r\n",
    "import matplotlib.pyplot as plt\r\n",
    "\r\n",
    "from pyaisdb.database import DB\r\n",
    "\r\n"
   ]
  },
  {
   "cell_type": "markdown",
   "metadata": {},
   "source": [
    "## Nomenclature"
   ]
  },
  {
   "cell_type": "markdown",
   "metadata": {},
   "source": [
    "Here is a cell link: [Logbook](#logbook)"
   ]
  },
  {
   "cell_type": "markdown",
   "metadata": {},
   "source": [
    "## 2021-08-09\r\n",
    "* [01.01_check_axels.ipynb](01.01_check_axels.ipynb)\r\n",
    "   * the total sailed distance differs about 6% between SSPA AIS and GPS\r\n",
    "   * This is however disregarding missing data and that the SSPA AIS has some data reduction.\r\n",
    "   * If the 0-1 kts speeds are disregarded in the comparison, the difference is 2%."
   ]
  },
  {
   "cell_type": "markdown",
   "metadata": {},
   "source": [
    "## 2021-08-30\n",
    "Calculating the distance with [Great-circle-distance](03.01_analyze_raw_AIS.ipynb#Great-circle-distance) or projection to meters gives the same result."
   ]
  },
  {
   "cell_type": "markdown",
   "metadata": {},
   "source": []
  },
  {
   "cell_type": "markdown",
   "metadata": {},
   "source": [
    "## References\n",
    "<div class=\"cite2c-biblio\"></div>"
   ]
  }
 ],
 "metadata": {
  "cite2c": {
   "citations": {
    "7505983/FB64RGPF": {
     "abstract": "Various methods for predicting the roll damping of a ship at forward speed is discussed. In particular, a simple method and a component analysis are described. The component analysis assumes that the damping is composed of friction damping, eddy damping, lift damping, wave damping, normal-force damping of bilge, keel, hull pressure damping due to bilge keels, and wave damping of bilge keels. Formulas for these components are derived from theoretical and experimental considerations.",
     "archive": "Scopus",
     "author": [
      {
       "family": "Himeno",
       "given": "Yoji"
      }
     ],
     "container-title": "University of Michigan Department of Naval Architecture and Marine Engineering, (Report)",
     "id": "7505983/FB64RGPF",
     "issue": "239",
     "issued": {
      "year": 1981
     },
     "title": "PREDICTION OF SHIP ROLL DAMPING - STATE OF THE ART.",
     "type": "article-journal"
    },
    "7505983/NXYCMQLI": {
     "URL": "https://scholar.google.com/scholar_lookup?title=On%20roll%20damping%20force%20of%20ship%3A%20effects%20of%20friction%20of%20hull%20and%20normal%20force%20of%20bilge%20keels&author=Y.%20Ikeda&author=Y.%20Himeno&author=N.%20Tanaka&journal=J%20Kansai%20Soc%20Naval%20Archit%20Jpn&volume=161&pages=41-49&publication_year=1976",
     "accessed": {
      "day": 24,
      "month": 1,
      "year": 2020
     },
     "id": "7505983/NXYCMQLI",
     "title": "Ikeda: Report no. 401: On roll damping force of ship-effe... - Google Scholar",
     "type": "article"
    },
    "7505983/QB552VIB": {
     "author": [
      {
       "family": "Ikeda",
       "given": "Yoshiho"
      }
     ],
     "container-title": "Proceedings of the 3rd International Offshore and Polar Engineering Conference",
     "event": "The International Society of Offshore and Polar Engineers",
     "event-place": "Singapore",
     "id": "7505983/QB552VIB",
     "issued": {
      "day": 1,
      "month": 6,
      "year": 1993
     },
     "publisher-place": "Singapore",
     "title": "Roll Damping of a Sharp-Cornered Barge and Roll Control by New Type Stabilizer",
     "type": "paper-conference"
    },
    "7505983/RC2WJ4RI": {
     "id": "7505983/RC2WJ4RI",
     "title": "JourneeAdegeest2003_pp180to195inTheoreticalManualSEAWAY.pdf",
     "type": "article"
    },
    "7505983/RWXBIIJJ": {
     "URL": "https://repository.tudelft.nl/islandora/object/uuid%3A2d4991a4-96ac-4935-b2a3-e712effd744d",
     "accessed": {
      "day": 4,
      "month": 3,
      "year": 2020
     },
     "author": [
      {
       "family": "Himeno",
       "given": "Yoji"
      }
     ],
     "container-title": "The University of Michigan, College of Engineering, Department of Naval Architecture and Marine Engineering, USA, Report No. 239",
     "id": "7505983/RWXBIIJJ",
     "issued": {
      "year": 1981
     },
     "language": "en",
     "title": "Prediction of ship roll damping - state of the art",
     "type": "article-journal"
    },
    "7505983/ZVF3F5V5": {
     "id": "7505983/ZVF3F5V5",
     "title": "Ikeda et al. - 1978 - Components of roll damping of ship at forward spee.pdf",
     "type": "article"
    }
   }
  },
  "interpreter": {
   "hash": "3fdae23d73c60f1aa96e9cd151013546c3ff6a449020e5a9bb8298314de000c2"
  },
  "kernelspec": {
   "display_name": "Python 3 (ipykernel)",
   "language": "python",
   "name": "python3"
  },
  "language_info": {
   "codemirror_mode": {
    "name": "ipython",
    "version": 3
   },
   "file_extension": ".py",
   "mimetype": "text/x-python",
   "name": "python",
   "nbconvert_exporter": "python",
   "pygments_lexer": "ipython3",
   "version": "3.8.8"
  },
  "toc": {
   "base_numbering": 1,
   "nav_menu": {},
   "number_sections": true,
   "sideBar": true,
   "skip_h1_title": false,
   "title_cell": "Table of Contents",
   "title_sidebar": "Contents",
   "toc_cell": false,
   "toc_position": {},
   "toc_section_display": true,
   "toc_window_display": false
  }
 },
 "nbformat": 4,
 "nbformat_minor": 4
}
