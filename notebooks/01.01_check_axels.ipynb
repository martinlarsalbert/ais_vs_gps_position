{
 "cells": [
  {
   "cell_type": "markdown",
   "metadata": {},
   "source": [
    "# Check Axel's calculations."
   ]
  },
  {
   "cell_type": "markdown",
   "metadata": {},
   "source": [
    "# Purpose\n",
    "* Axel has made a small script to compare AIS and GPS data.\n",
    "* This script will be examined and understood in this notebook."
   ]
  },
  {
   "cell_type": "markdown",
   "metadata": {},
   "source": [
    "## Results\r\n",
    "* the total sailed distance differs about 6% between SSPA AIS and GPS\r\n",
    "* This is however disregarding missing data and that the SSPA AIS has some data reduction.\r\n",
    "* If the 0-1 kts speeds are disregarded in the comparison, the difference is 2%."
   ]
  },
  {
   "cell_type": "markdown",
   "metadata": {},
   "source": [
    "# Setup"
   ]
  },
  {
   "cell_type": "code",
   "execution_count": null,
   "metadata": {},
   "outputs": [],
   "source": [
    "# %load imports.py\r\n",
    "from typing import no_type_check\r\n",
    "%matplotlib inline\r\n",
    "%load_ext autoreload\r\n",
    "%autoreload 2\r\n",
    "\r\n",
    "import os\r\n",
    "import pandas as pd\r\n",
    "import numpy as np\r\n",
    "import matplotlib.pyplot as plt\r\n",
    "\r\n",
    "from pyaisdb.database import DB\r\n",
    "\r\n"
   ]
  },
  {
   "cell_type": "code",
   "execution_count": null,
   "metadata": {},
   "outputs": [],
   "source": [
    "db = DB()"
   ]
  },
  {
   "cell_type": "code",
   "execution_count": null,
   "metadata": {},
   "outputs": [],
   "source": [
    "df_speed_distances = pd.DataFrame(dtype='float64')\r\n",
    "s_gps = pd.Series(dtype='float64')\r\n",
    "s_ais = pd.Series(dtype='float64')"
   ]
  },
  {
   "cell_type": "markdown",
   "metadata": {},
   "source": [
    "## GPS data"
   ]
  },
  {
   "cell_type": "code",
   "execution_count": null,
   "metadata": {},
   "outputs": [],
   "source": [
    "for i in range(30):\r\n",
    "    sql = f\"\"\"with blue_data as (SELECT time_info, lag(time_info, 1) OVER (ORDER by time_info ASC) as next_time, sog, \r\n",
    "  ST_Distance(pos::geography, lag(pos::geography, 1) OVER (ORDER by time_info ASC)) as dist\r\n",
    "\tFROM projects._49145341_d2e2f_blue_data_varmdo\r\n",
    "\twhere time_info < '2020-07-19 23:59:59+02'\r\n",
    "                  and time_info > '2020-07-10 00:00:00+02'\r\n",
    ")\r\n",
    "select sum(dist)/1852\r\n",
    "from blue_data\r\n",
    "where sog >= {i} and sog < {i + 1}\"\"\"\r\n",
    "    # print(sql)\r\n",
    "    distance = db.execute_and_return(sql)[0][0]\r\n",
    "    if distance:\r\n",
    "        #print(f'{i + 0.5} {round(result, 2)}')\r\n",
    "        speed = i + 0.5\r\n",
    "        s_gps[speed] = distance\r\n"
   ]
  },
  {
   "cell_type": "markdown",
   "metadata": {},
   "source": [
    "## AIS data"
   ]
  },
  {
   "cell_type": "code",
   "execution_count": null,
   "metadata": {},
   "outputs": [],
   "source": [
    "for i in range(30):\r\n",
    "    sql = f\"\"\"select sum(st_length(segment::geography)) / 1852\r\n",
    "from segments_sjfv_2020\r\n",
    "where sog>={i} and sog < {i+1}\r\n",
    "and mmsi=265520390\r\n",
    "and date2 < '2020-07-19 23:59:59+02'\r\n",
    "and date1 > '2020-07-10 00:00:00+02' \"\"\"\r\n",
    "    distance = db.execute_and_return(sql)[0][0]\r\n",
    "    if distance:\r\n",
    "        #print(f'{i + 0.5} {round(result, 2)}')\r\n",
    "        speed = i + 0.5\r\n",
    "        s_ais[speed] = distance\r\n"
   ]
  },
  {
   "cell_type": "code",
   "execution_count": null,
   "metadata": {},
   "outputs": [],
   "source": [
    "df_speed_distances['GPS'] = s_gps\r\n",
    "df_speed_distances['AIS'] = s_ais\r\n",
    "df_speed_distances.index.name='speed'\r\n",
    "df_speed_distances.head()"
   ]
  },
  {
   "cell_type": "code",
   "execution_count": null,
   "metadata": {},
   "outputs": [],
   "source": [
    "df_speed_distances.describe()"
   ]
  },
  {
   "cell_type": "code",
   "execution_count": null,
   "metadata": {},
   "outputs": [],
   "source": [
    "df_speed_distances.sum()"
   ]
  },
  {
   "cell_type": "code",
   "execution_count": null,
   "metadata": {},
   "outputs": [],
   "source": [
    "df_speed_distances.sum().pct_change()"
   ]
  },
  {
   "cell_type": "code",
   "execution_count": null,
   "metadata": {},
   "outputs": [],
   "source": [
    "fig,ax=plt.subplots()\r\n",
    "fig.set_size_inches(17,7)\r\n",
    "df_speed_distances.plot(style='.-', ax=ax);\r\n",
    "ax.grid(True)\r\n",
    "ax.set_ylabel('Distance [NM]')\r\n",
    "ax.set_xlabel('Ship speed [kts]')\r\n"
   ]
  },
  {
   "cell_type": "code",
   "execution_count": null,
   "metadata": {},
   "outputs": [],
   "source": [
    "df_speed_distances.iloc[1:].sum().pct_change()"
   ]
  },
  {
   "cell_type": "code",
   "execution_count": null,
   "metadata": {},
   "outputs": [],
   "source": []
  }
 ],
 "metadata": {
  "interpreter": {
   "hash": "3fdae23d73c60f1aa96e9cd151013546c3ff6a449020e5a9bb8298314de000c2"
  },
  "kernelspec": {
   "display_name": "Python 3.7.9 32-bit ('venv': venv)",
   "name": "python3"
  },
  "language_info": {
   "codemirror_mode": {
    "name": "ipython",
    "version": 3
   },
   "file_extension": ".py",
   "mimetype": "text/x-python",
   "name": "python",
   "nbconvert_exporter": "python",
   "pygments_lexer": "ipython3",
   "version": "3.7.9"
  }
 },
 "nbformat": 4,
 "nbformat_minor": 4
}
