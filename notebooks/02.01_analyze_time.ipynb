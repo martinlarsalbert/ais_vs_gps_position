{
 "cells": [
  {
   "cell_type": "markdown",
   "metadata": {},
   "source": [
    "# Analyze time"
   ]
  },
  {
   "cell_type": "markdown",
   "metadata": {},
   "source": [
    "# Purpose\r\n",
    "* There could be missing data in either AIS, GPS or both, this notebook will investigate this."
   ]
  },
  {
   "cell_type": "markdown",
   "metadata": {},
   "source": [
    "# Methodology\r\n",
    "* Load AIS data\r\n",
    "* Load GPS data\r\n",
    "* compare time stamps."
   ]
  },
  {
   "cell_type": "markdown",
   "metadata": {},
   "source": [
    "## Results\n",
    "Describe and comment the most important results."
   ]
  },
  {
   "cell_type": "markdown",
   "metadata": {},
   "source": [
    "# Setup"
   ]
  },
  {
   "cell_type": "code",
   "execution_count": null,
   "metadata": {},
   "outputs": [],
   "source": [
    "# %load imports.py\r\n",
    "from typing import no_type_check\r\n",
    "%matplotlib inline\r\n",
    "%load_ext autoreload\r\n",
    "%autoreload 2\r\n",
    "\r\n",
    "import os\r\n",
    "import pandas as pd\r\n",
    "import numpy as np\r\n",
    "import matplotlib.pyplot as plt\r\n",
    "\r\n",
    "from pyaisdb.database import DB\r\n",
    "import geopandas as gpd\r\n",
    "\r\n"
   ]
  },
  {
   "cell_type": "code",
   "execution_count": null,
   "metadata": {},
   "outputs": [],
   "source": [
    "from shapely.geometry import Point"
   ]
  },
  {
   "cell_type": "code",
   "execution_count": null,
   "metadata": {},
   "outputs": [],
   "source": [
    "db = DB()"
   ]
  },
  {
   "cell_type": "code",
   "execution_count": null,
   "metadata": {},
   "outputs": [],
   "source": [
    "date1 = '2020-07-10 00:00:00+02'\r\n",
    "date2 = '2020-07-19 23:59:59+02'\r\n",
    "mmsi = 265520390\r\n",
    "sog_min = 1"
   ]
  },
  {
   "cell_type": "markdown",
   "metadata": {},
   "source": [
    "## AIS"
   ]
  },
  {
   "cell_type": "code",
   "execution_count": null,
   "metadata": {},
   "outputs": [],
   "source": [
    "sql = f\"\"\"select *\r\n",
    "from segments_sjfv_2020\r\n",
    "where sog>={sog_min}\r\n",
    "and mmsi={265520390}\r\n",
    "and date2 < '{date2}'\r\n",
    "and date1 > '{date1}' \"\"\"\r\n",
    "\r\n",
    "df_ais = gpd.GeoDataFrame.from_postgis(sql, db.conn, geom_col='segment', index_col='date1')\r\n",
    "df_ais.sort_index(inplace=True)\r\n",
    "assert df_ais.index.is_unique"
   ]
  },
  {
   "cell_type": "code",
   "execution_count": null,
   "metadata": {},
   "outputs": [],
   "source": [
    "df_ais.describe()"
   ]
  },
  {
   "cell_type": "code",
   "execution_count": null,
   "metadata": {},
   "outputs": [],
   "source": [
    "df_ais.head()"
   ]
  },
  {
   "cell_type": "code",
   "execution_count": null,
   "metadata": {},
   "outputs": [],
   "source": [
    "df_ais.plot()"
   ]
  },
  {
   "cell_type": "code",
   "execution_count": null,
   "metadata": {},
   "outputs": [],
   "source": [
    "s = df_ais.iloc[0]\r\n",
    "segment = s['segment']\r\n",
    "segment.coords[0]"
   ]
  },
  {
   "cell_type": "code",
   "execution_count": null,
   "metadata": {},
   "outputs": [],
   "source": [
    "point = Point(segment.coords[0])"
   ]
  },
  {
   "cell_type": "code",
   "execution_count": null,
   "metadata": {},
   "outputs": [],
   "source": [
    "rows = []\r\n",
    "\r\n",
    "for index,s in df_ais.iterrows():\r\n",
    "\r\n",
    "    s = s.copy()\r\n",
    "    segment = s['segment']\r\n",
    "    point0 = Point(segment.coords[0])\r\n",
    "    point1 = Point(segment.coords[1])\r\n",
    "    \r\n",
    "    date0_ = index\r\n",
    "    date1_ = s.pop('date2')\r\n",
    "    \r\n",
    "    s0 = s.copy()\r\n",
    "    s0['pos'] = point0\r\n",
    "    s0.name = date0_\r\n",
    "\r\n",
    "    s1 = s.copy()\r\n",
    "    s1['pos'] = point1\r\n",
    "    s1.name = date1_\r\n",
    "\r\n",
    "    rows.append(s0)\r\n",
    "    rows.append(s1)\r\n",
    "        \r\n",
    "df_ais_pos = pd.DataFrame(rows)\r\n",
    "df_ais_pos['geometry'] = gpd.GeoSeries(df_ais_pos['pos'])\r\n",
    "df_ais_pos_raw = gpd.GeoDataFrame(df_ais_pos)"
   ]
  },
  {
   "cell_type": "code",
   "execution_count": null,
   "metadata": {},
   "outputs": [],
   "source": [
    "mask = df_ais_pos_raw.index.duplicated(keep='first')\r\n",
    "df_ais_pos = df_ais_pos_raw.loc[~mask].copy()\r\n",
    "df_ais_pos.sort_index(inplace=True)\r\n",
    "assert df_ais_pos.index.is_unique"
   ]
  },
  {
   "cell_type": "code",
   "execution_count": null,
   "metadata": {},
   "outputs": [],
   "source": [
    "df_ais_pos.describe()"
   ]
  },
  {
   "cell_type": "markdown",
   "metadata": {},
   "source": [
    "## GPS"
   ]
  },
  {
   "cell_type": "code",
   "execution_count": null,
   "metadata": {},
   "outputs": [],
   "source": [
    "sql = f\"\"\"select * \r\n",
    "  FROM projects._49145341_d2e2f_blue_data_varmdo\r\n",
    "\twhere time_info < '{date2}'\r\n",
    "                  and time_info > '{date1}'\r\n",
    "and sog >= {sog_min}\"\"\"\r\n",
    "df_gps = gpd.GeoDataFrame.from_postgis(sql, db.conn, geom_col='pos', index_col='time_info') \r\n",
    "df_gps.sort_index(inplace=True)\r\n",
    "assert df_gps.index.is_unique"
   ]
  },
  {
   "cell_type": "code",
   "execution_count": null,
   "metadata": {},
   "outputs": [],
   "source": [
    "df_gps.describe()"
   ]
  },
  {
   "cell_type": "code",
   "execution_count": null,
   "metadata": {},
   "outputs": [],
   "source": [
    "s = df_gps.iloc[0]"
   ]
  },
  {
   "cell_type": "code",
   "execution_count": null,
   "metadata": {},
   "outputs": [],
   "source": [
    "position = s['pos']\r\n",
    "position.x"
   ]
  },
  {
   "cell_type": "code",
   "execution_count": null,
   "metadata": {},
   "outputs": [],
   "source": [
    "position.y"
   ]
  },
  {
   "cell_type": "code",
   "execution_count": null,
   "metadata": {},
   "outputs": [],
   "source": [
    "#?df_gps.plot"
   ]
  },
  {
   "cell_type": "code",
   "execution_count": null,
   "metadata": {},
   "outputs": [],
   "source": [
    "fig,ax=plt.subplots()\r\n",
    "fig.set_size_inches(17,7)\r\n",
    "df_ais_pos.plot(markersize=0.2, label='AIS', ax=ax)\r\n",
    "df_gps.plot(markersize=0.2, label='GPS', ax=ax, alpha=0.2)"
   ]
  },
  {
   "cell_type": "code",
   "execution_count": null,
   "metadata": {},
   "outputs": [],
   "source": [
    "df_gps.describe()"
   ]
  },
  {
   "cell_type": "code",
   "execution_count": null,
   "metadata": {},
   "outputs": [],
   "source": [
    "df_gps.head()"
   ]
  },
  {
   "cell_type": "code",
   "execution_count": null,
   "metadata": {},
   "outputs": [],
   "source": [
    "start = np.max([df_gps.index[0], df_ais_pos.index[0]])\r\n",
    "stop = np.min([df_gps.index[-1], df_ais_pos.index[-1]])\r\n",
    "mask = ((df_gps.index >=start) & (df_gps.index<=stop))\r\n",
    "df_gps = df_gps.loc[mask].copy()\r\n",
    "\r\n",
    "mask = ((df_ais_pos.index >=start) & (df_ais_pos.index<=stop))\r\n",
    "df_ais_pos = df_ais_pos.loc[mask].copy()"
   ]
  },
  {
   "cell_type": "code",
   "execution_count": null,
   "metadata": {},
   "outputs": [],
   "source": [
    "df_gps['t'] = (df_gps.index-df_gps.index[0]).total_seconds().values\r\n",
    "df_ais_pos['t'] = (df_ais_pos.index-df_gps.index[0]).total_seconds().values  # Note that t0 is taken from GPS"
   ]
  },
  {
   "cell_type": "code",
   "execution_count": null,
   "metadata": {},
   "outputs": [],
   "source": [
    "df_ais_pos['t']"
   ]
  },
  {
   "cell_type": "code",
   "execution_count": null,
   "metadata": {},
   "outputs": [],
   "source": [
    "fig,axes=plt.subplots(nrows=2)\r\n",
    "fig.set_size_inches(17,7)\r\n",
    "df_gps.plot(y='sog', kind='line', ax=axes[0], label='GPS')\r\n",
    "df_ais_pos.plot(y='sog', kind='line', ax=axes[1], label='AIS', style='r-')\r\n",
    "plt.tight_layout()\r\n",
    "\r\n"
   ]
  },
  {
   "cell_type": "code",
   "execution_count": null,
   "metadata": {},
   "outputs": [],
   "source": [
    "fig,ax=plt.subplots()\r\n",
    "fig.set_size_inches(17,7)\r\n",
    "\r\n",
    "stop_date = '2020-07-10 06:39:25+00:00'\r\n",
    "mask = df_gps.index < stop_date\r\n",
    "df_gps_cut = df_gps.loc[mask].copy()\r\n",
    "\r\n",
    "mask = df_ais_pos.index < stop_date\r\n",
    "df_ais_pos_cut = df_ais_pos.loc[mask].copy()\r\n",
    "\r\n",
    "\r\n",
    "#df_gps_cut.resample('30S').mean().dropna().plot(y='sog', kind='line', style='.-', ax=ax, label='GPS')\r\n",
    "#df_ais_pos_cut.resample('30S').mean().dropna().plot(y='sog', kind='line', style='.-', ax=ax, label='AIS')\r\n",
    "\r\n",
    "df_gps_cut.dropna().plot(y='sog', kind='line', style='.-', ax=ax, label='GPS')\r\n",
    "df_ais_pos_cut.dropna().plot(y='sog', kind='line', style='.-', ax=ax, label='AIS')"
   ]
  },
  {
   "cell_type": "code",
   "execution_count": null,
   "metadata": {},
   "outputs": [],
   "source": [
    "df_gps.describe()"
   ]
  },
  {
   "cell_type": "code",
   "execution_count": null,
   "metadata": {},
   "outputs": [],
   "source": [
    "df_ais_pos.describe()"
   ]
  }
 ],
 "metadata": {
  "interpreter": {
   "hash": "3fdae23d73c60f1aa96e9cd151013546c3ff6a449020e5a9bb8298314de000c2"
  },
  "kernelspec": {
   "display_name": "Python 3.7.9 32-bit ('venv': venv)",
   "name": "python3"
  },
  "language_info": {
   "codemirror_mode": {
    "name": "ipython",
    "version": 3
   },
   "file_extension": ".py",
   "mimetype": "text/x-python",
   "name": "python",
   "nbconvert_exporter": "python",
   "pygments_lexer": "ipython3",
   "version": "3.7.9"
  }
 },
 "nbformat": 4,
 "nbformat_minor": 4
}
